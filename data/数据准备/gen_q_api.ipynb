{
 "cells": [
  {
   "cell_type": "code",
   "execution_count": null,
   "id": "caff2238",
   "metadata": {},
   "outputs": [],
   "source": [
    "pip install requests"
   ]
  },
  {
   "cell_type": "code",
   "execution_count": 1,
   "id": "6928373f",
   "metadata": {},
   "outputs": [
    {
     "ename": "SyntaxError",
     "evalue": "invalid syntax (4118354637.py, line 6)",
     "output_type": "error",
     "traceback": [
      "\u001b[1;36m  Cell \u001b[1;32mIn[1], line 6\u001b[1;36m\u001b[0m\n\u001b[1;33m    = \"https://open.bigmodel.cn/api/paas/v4/\"\u001b[0m\n\u001b[1;37m    ^\u001b[0m\n\u001b[1;31mSyntaxError\u001b[0m\u001b[1;31m:\u001b[0m invalid syntax\n"
     ]
    }
   ],
   "source": [
    "import json\n",
    "from zhipuai import ZhipuAI\n",
    "\n",
    "# 定义API的URL和你的API密钥\n",
    "api_key = \"\"\n",
    "api_url = \"\"\n",
    "\n",
    "# 创建ZhipuAI客户端实例\n",
    "client = ZhipuAI(api_key=api_key, base_url=api_url)\n",
    "\n",
    "# 定义要生成的问题总数和每次请求生成的问题数\n",
    "total_questions = 500\n",
    "questions_per_request = 10\n",
    "\n",
    "# 准备请求的数据模板\n",
    "data_template = {\n",
    "    \"prompt\": \"阿宝是电视剧/小说《繁花》中的角色，1960年代，在上海没落家族出身，不甘平凡，有幸遇上了商界老手爷叔，从爷叔那学到了视市场投资与人性洞察，一手炒股票，一手抓外贸，从一个普通的工厂工人，逐渐成长为商业巨头，成为威震上海滩的宝总。情感上，与初恋雪芝因现实压力分手，与外贸公司女白领汪小姐有着合作与情感的双重纠葛，对帮助过他的玲子抱有深厚亲情，共同经营了“夜东京”饭店。阿宝与“至真园”女老板李李有过情感纠葛。在商业战场上，阿宝与强慕杰（强总）的对决尤为激烈。强慕杰（强总）企图通过股市击垮阿宝并追求玲子。三场战役中，阿宝在李李、蔡司令等人的帮助下，以智取胜，尽管过程中遭遇资金链断裂的危机，但他坚守原则，拒绝了麒麟会提供的直接经济援助，转而请求其保护农民利益，放弃了个人财富的增长，展现了超越商战的格局。阿宝心思细腻，有情有义，风流倜傥，说话做事有腔调。假如你是路人，请你向阿宝提问，问题尽量简洁，每次提问不超过40个字，请开始提问:\",\n",
    "    \"temperature\": 0.7,\n",
    "    \"stop\": \".\"\n",
    "}\n",
    "\n",
    "# 用于存储所有生成的问题\n",
    "all_questions = []\n",
    "\n",
    "# 发送请求并获取响应的函数\n",
    "def fetch_questions(data):\n",
    "    try:\n",
    "        completion = client.chat.completions.create(model='GLM-4', messages=data, temperature=0.7)\n",
    "        return [choice.message.content for choice in completion.choices]\n",
    "    except Exception as e:\n",
    "        print(f\"请求失败: {e}\")\n",
    "        return []\n",
    "\n",
    "# 循环调用API直到收集到足够的问题\n",
    "data = [{'role': 'system', 'content': data_template['prompt']}]\n",
    "while len(all_questions) < total_questions:\n",
    "    questions = fetch_questions(data)\n",
    "    \n",
    "    # 如果获取到的问题数小于预期，减少请求的问题数\n",
    "    if len(questions) < questions_per_request:\n",
    "        questions_per_request = len(questions)\n",
    "    \n",
    "    # 将获取到的问题添加到列表中\n",
    "    all_questions.extend(questions)\n",
    "    \n",
    "    # 如果已经收集到足够的问题，退出循环\n",
    "    if len(all_questions) >= total_questions:\n",
    "        break\n",
    "    \n",
    "    # 打印进度信息\n",
    "    print(f\"已获取问题数: {len(all_questions)}/{total_questions}\")\n",
    "\n",
    "# 保存问题到文件\n",
    "file_path = r'E:\\puyu_project\\fanhua\\generated_questions.txt'\n",
    "with open(file_path, 'w', encoding='utf-8') as file:\n",
    "    for question in all_questions:\n",
    "        file.write(question + '\\n')\n",
    "\n",
    "print(f\"共生成 {len(all_questions)} 个问题，已保存到 {file_path}\")"
   ]
  },
  {
   "cell_type": "code",
   "execution_count": null,
   "id": "1da8acaa",
   "metadata": {},
   "outputs": [],
   "source": [
    "python gen_q_api.py"
   ]
  }
 ],
 "metadata": {
  "kernelspec": {
   "display_name": "Python 3 (ipykernel)",
   "language": "python",
   "name": "python3"
  },
  "language_info": {
   "codemirror_mode": {
    "name": "ipython",
    "version": 3
   },
   "file_extension": ".py",
   "mimetype": "text/x-python",
   "name": "python",
   "nbconvert_exporter": "python",
   "pygments_lexer": "ipython3",
   "version": "3.8.10"
  }
 },
 "nbformat": 4,
 "nbformat_minor": 5
}
